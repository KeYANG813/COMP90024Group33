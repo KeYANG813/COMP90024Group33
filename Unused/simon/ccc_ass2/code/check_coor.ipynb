{
 "cells": [
  {
   "cell_type": "code",
   "execution_count": 1,
   "id": "3869074f-899d-459c-afd4-a5ebc97b818d",
   "metadata": {},
   "outputs": [],
   "source": [
    "import json\n",
    "from collections import defaultdict"
   ]
  },
  {
   "cell_type": "code",
   "execution_count": 2,
   "id": "cf179327-2ab9-471a-8510-f8e7c99235ea",
   "metadata": {},
   "outputs": [],
   "source": [
    "with open('../data/sample.json','r',encoding='utf8')as fp:\n",
    "    json_data = json.load(fp)"
   ]
  },
  {
   "cell_type": "code",
   "execution_count": 5,
   "id": "0cfb3bd5-d87c-45d0-8bb2-5f39d34fd5b4",
   "metadata": {},
   "outputs": [
    {
     "data": {
      "text/plain": [
       "dict_keys(['index', 'text', 'geo', 'author_id', 'created_at', 'attachments', 'lang'])"
      ]
     },
     "execution_count": 5,
     "metadata": {},
     "output_type": "execute_result"
    }
   ],
   "source": [
    "json_data[\"1\"].keys()"
   ]
  },
  {
   "cell_type": "code",
   "execution_count": 9,
   "id": "77bb16de-973f-4c7b-a058-73a27b3021c8",
   "metadata": {},
   "outputs": [],
   "source": [
    "have_coor_dict = {}"
   ]
  },
  {
   "cell_type": "code",
   "execution_count": 10,
   "id": "2fe53593-9275-48c1-9108-f789e27f5d1c",
   "metadata": {},
   "outputs": [
    {
     "name": "stdout",
     "output_type": "stream",
     "text": [
      "{'place_id': '3cd4c18d3615bbc9', 'coordinates': {'type': 'Point', 'coordinates': [-93.10316463, 41.94379696]}}\n",
      "{'place_id': '3cd4c18d3615bbc9', 'coordinates': {'type': 'Point', 'coordinates': [-93.10316463, 41.94379696]}}\n",
      "{'place_id': '3cd4c18d3615bbc9', 'coordinates': {'type': 'Point', 'coordinates': [-93.10316463, 41.94379696]}}\n",
      "{'coordinates': {'type': 'Point', 'coordinates': [-93.10316463, 41.94379696]}, 'place_id': '3cd4c18d3615bbc9'}\n",
      "{'place_id': '3cd4c18d3615bbc9', 'coordinates': {'type': 'Point', 'coordinates': [-93.10316463, 41.94379696]}}\n",
      "{'place_id': '3cd4c18d3615bbc9', 'coordinates': {'type': 'Point', 'coordinates': [-93.10316463, 41.94379696]}}\n",
      "{'coordinates': {'type': 'Point', 'coordinates': [-93.10316463, 41.94379696]}, 'place_id': '3cd4c18d3615bbc9'}\n",
      "{'coordinates': {'type': 'Point', 'coordinates': [-93.10316463, 41.94379696]}, 'place_id': '3cd4c18d3615bbc9'}\n",
      "{'place_id': '3cd4c18d3615bbc9', 'coordinates': {'type': 'Point', 'coordinates': [-93.10316463, 41.94379696]}}\n",
      "{'place_id': '3cd4c18d3615bbc9', 'coordinates': {'type': 'Point', 'coordinates': [-93.10316463, 41.94379696]}}\n",
      "{'place_id': '3cd4c18d3615bbc9', 'coordinates': {'type': 'Point', 'coordinates': [-93.10316463, 41.94379696]}}\n",
      "{'place_id': '3cd4c18d3615bbc9', 'coordinates': {'type': 'Point', 'coordinates': [-93.10316463, 41.94379696]}}\n",
      "{'place_id': '3cd4c18d3615bbc9', 'coordinates': {'type': 'Point', 'coordinates': [-93.10316463, 41.94379696]}}\n",
      "{'coordinates': {'type': 'Point', 'coordinates': [-93.10316463, 41.94379696]}, 'place_id': '3cd4c18d3615bbc9'}\n",
      "{'place_id': '3cd4c18d3615bbc9', 'coordinates': {'type': 'Point', 'coordinates': [-93.10316463, 41.94379696]}}\n",
      "{'coordinates': {'type': 'Point', 'coordinates': [-93.10316463, 41.94379696]}, 'place_id': '3cd4c18d3615bbc9'}\n",
      "{'place_id': '3cd4c18d3615bbc9', 'coordinates': {'type': 'Point', 'coordinates': [-93.10316463, 41.94379696]}}\n",
      "{'place_id': '3cd4c18d3615bbc9', 'coordinates': {'type': 'Point', 'coordinates': [-93.10316463, 41.94379696]}}\n",
      "{'coordinates': {'type': 'Point', 'coordinates': [-93.10316463, 41.94379696]}, 'place_id': '3cd4c18d3615bbc9'}\n",
      "{'place_id': '3cd4c18d3615bbc9', 'coordinates': {'type': 'Point', 'coordinates': [-93.10316463, 41.94379696]}}\n"
     ]
    }
   ],
   "source": [
    "for i in json_data.keys():\n",
    "    if json_data[i][\"geo\"] != None:\n",
    "        print(json_data[i][\"geo\"])\n",
    "        have_coor_dict[i] = json_data[i] \n",
    "    "
   ]
  },
  {
   "cell_type": "code",
   "execution_count": 11,
   "id": "ce1fc6b8-b9c1-475c-9381-81a5131c3e52",
   "metadata": {},
   "outputs": [],
   "source": [
    "with open(\"../data/have_coor_json.json\", \"w\") as outfile:\n",
    "        json.dump(have_coor_dict, outfile)"
   ]
  }
 ],
 "metadata": {
  "kernelspec": {
   "display_name": "Python 3",
   "language": "python",
   "name": "python3"
  },
  "language_info": {
   "codemirror_mode": {
    "name": "ipython",
    "version": 3
   },
   "file_extension": ".py",
   "mimetype": "text/x-python",
   "name": "python",
   "nbconvert_exporter": "python",
   "pygments_lexer": "ipython3",
   "version": "3.8.8"
  }
 },
 "nbformat": 4,
 "nbformat_minor": 5
}
