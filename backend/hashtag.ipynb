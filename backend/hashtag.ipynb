{
 "cells": [
  {
   "cell_type": "code",
   "execution_count": 4,
   "metadata": {},
   "outputs": [],
   "source": [
    "from cloudant.client import CouchDB\n",
    "from cloudant.view import View\n",
    "from cloudant.result import Result\n",
    "import json\n",
    "import time\n",
    "from collections import Counter\n",
    "from os.path import join, dirname, realpath"
   ]
  },
  {
   "cell_type": "code",
   "execution_count": 5,
   "metadata": {},
   "outputs": [],
   "source": [
    "def couchdb_init():\n",
    "    USERNAME = 'user'\n",
    "    PASSWORD = 'pass'\n",
    "    client = CouchDB(USERNAME, PASSWORD, url='http://172.26.132.223:5984', connect=True)\n",
    "    return client"
   ]
  },
  {
   "cell_type": "code",
   "execution_count": 13,
   "metadata": {},
   "outputs": [
    {
     "name": "stdout",
     "output_type": "stream",
     "text": [
      "{'db_melbourne': [{'name': 'auspol', 'value': 114}, {'name': 'victraffic', 'value': 95}, {'name': 'ausvotes', 'value': 88}, {'name': 'Melbourne', 'value': 49}, {'name': 'GoPies', 'value': 45}, {'name': 'LNPliarsCrooksThieves', 'value': 42}, {'name': 'gopies', 'value': 34}, {'name': 'AlboForPM', 'value': 30}, {'name': 'QandA', 'value': 28}, {'name': 'AFLEaglesTigers', 'value': 27}], 'db_sydney': [{'name': 'Albo4PM', 'value': 239}, {'name': 'Labor', 'value': 217}, {'name': 'auspol', 'value': 158}, {'name': 'May21st', 'value': 115}, {'name': 'ItsASin', 'value': 111}, {'name': 'funnyvideos', 'value': 110}, {'name': 'MayDay2022', 'value': 108}, {'name': 'ScoMo', 'value': 101}, {'name': 'Greens', 'value': 85}, {'name': 'ausvotes', 'value': 82}], 'db_adelaide': [{'name': 'EternalThroneOfGod', 'value': 30}, {'name': 'Heartstopper', 'value': 29}, {'name': 'Horror', 'value': 24}, {'name': 'Comedy', 'value': 24}, {'name': 'HeartstopperNetflix', 'value': 19}, {'name': 'auspol', 'value': 16}, {'name': 'AFLCrowsGiants', 'value': 15}, {'name': 'ausvotes', 'value': 12}, {'name': 'Adelaide', 'value': 12}, {'name': 'ASM22PER', 'value': 12}], 'db_darwin': [{'name': 'AlboForPM', 'value': 17}, {'name': 'onlyfans', 'value': 6}, {'name': 'KeungTo', 'value': 6}, {'name': 'weflyasone', 'value': 6}, {'name': 'Albo4PM', 'value': 5}, {'name': 'DojaCat', 'value': 4}, {'name': 'doja', 'value': 4}, {'name': 'AusKeungToCandies', 'value': 4}, {'name': 'HMASMaitland', 'value': 3}, {'name': 'tattooed', 'value': 3}], 'db_brisbane': [{'name': 'auspol', 'value': 86}, {'name': 'razorfadebarbershop', 'value': 72}, {'name': 'halililbrahimceyhan', 'value': 58}, {'name': 'ausvotes', 'value': 56}, {'name': 'AusVotes2022', 'value': 49}, {'name': 'sılaatürkoğlu', 'value': 41}, {'name': 'furdu2022', 'value': 27}, {'name': 'qanda', 'value': 22}, {'name': 'EternalThroneOfGod', 'value': 20}, {'name': 'FurDU', 'value': 19}]}\n"
     ]
    }
   ],
   "source": [
    "citys = {}\n",
    "dbname = [\"db_melbourne\", \"db_sydney\", \"db_adelaide\", \"db_darwin\", \"db_brisbane\"]\n",
    "client = couchdb_init()\n",
    "#results = Result(client['tweets'].all_docs, include_docs=True)\n",
    "for city in dbname:\n",
    "    city_hashtag = {}\n",
    "    top_hashtags = []\n",
    "    results = Result(client[city].all_docs, include_docs=True)\n",
    "    for i in results:\n",
    "        doc = i['doc']\n",
    "        if \"lang\" in doc.keys():\n",
    "            if doc['lang'] != \"en\":\n",
    "                continue\n",
    "        else:\n",
    "            continue\n",
    "        if \"entities\" in doc.keys():\n",
    "            entities = doc[\"entities\"]\n",
    "            if \"hashtags\" in entities.keys():\n",
    "                tag_list = entities[\"hashtags\"]\n",
    "                if (tag_list != []):\n",
    "                    for dic in tag_list:\n",
    "                        if dic['text'] not in city_hashtag:\n",
    "                            city_hashtag[dic['text']] = 1\n",
    "                        else:\n",
    "                            city_hashtag[dic['text']] += 1\n",
    "    hashtag_sorted = dict(sorted(city_hashtag.items(), key=lambda item: item[1], reverse = True)[:10])\n",
    "    for key in hashtag_sorted:\n",
    "        format_dic = {}\n",
    "        format_dic[\"name\"] = key\n",
    "        format_dic[\"value\"] = hashtag_sorted[key]\n",
    "        top_hashtags.append(format_dic)\n",
    "    citys[city] = top_hashtags\n",
    "print(citys)"
   ]
  },
  {
   "cell_type": "code",
   "execution_count": null,
   "metadata": {},
   "outputs": [],
   "source": []
  }
 ],
 "metadata": {
  "kernelspec": {
   "display_name": "Python 3",
   "language": "python",
   "name": "python3"
  },
  "language_info": {
   "codemirror_mode": {
    "name": "ipython",
    "version": 3
   },
   "file_extension": ".py",
   "mimetype": "text/x-python",
   "name": "python",
   "nbconvert_exporter": "python",
   "pygments_lexer": "ipython3",
   "version": "3.8.5"
  }
 },
 "nbformat": 4,
 "nbformat_minor": 4
}
