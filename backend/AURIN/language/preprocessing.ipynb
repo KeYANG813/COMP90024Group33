{
 "cells": [
  {
   "cell_type": "code",
   "execution_count": 1,
   "metadata": {},
   "outputs": [],
   "source": [
    "import re\n",
    "import string\n",
    "import pandas as pd\n",
    "import numpy as np \n",
    "import warnings\n",
    "warnings.filterwarnings(\"ignore\")"
   ]
  },
  {
   "cell_type": "code",
   "execution_count": 2,
   "metadata": {},
   "outputs": [],
   "source": [
    "df = pd.read_csv('language_sex.csv')"
   ]
  },
  {
   "cell_type": "code",
   "execution_count": 3,
   "metadata": {},
   "outputs": [],
   "source": [
    "list_drop = []\n",
    "for col in df.columns:\n",
    "    if (col.endswith('_tot') == False):\n",
    "        list_drop.append(col)\n",
    "        #print(col)\n",
    "list_drop.remove(' sa4_name16')\n",
    "list_drop.remove(' sa4_code16')\n",
    "list_drop.remove(' female_tot_spks_eng_only')\n",
    "list_drop.append(' female_spks_se_asia_austronesia_lang_tot_tot')"
   ]
  },
  {
   "cell_type": "code",
   "execution_count": 4,
   "metadata": {},
   "outputs": [],
   "source": [
    "df = df.drop(columns = list_drop)"
   ]
  },
  {
   "cell_type": "code",
   "execution_count": 5,
   "metadata": {},
   "outputs": [],
   "source": [
    "language_list = [\"eng\",\"serbian\",\"arabic\",\"russian\", \"spanish\", \"notstated\", \"dutch\", \"tamil\", \"french\", \"mandarin\", \"oth\",\"german\", \"indig\", \n",
    "                \"afrikaans\",\"persian\", \"korean\", \"cantones\", \"turkish\", \"thai\", \"asia_austronesia\", \"samoan\", \"macedonian\", \"croatian\",\n",
    "                \"maltese\", \"vietnamese\", \"polish\"]"
   ]
  },
  {
   "cell_type": "code",
   "execution_count": 6,
   "metadata": {},
   "outputs": [],
   "source": [
    "output = df.filter([' sa4_name16',' sa4_code16'], axis=1)"
   ]
  },
  {
   "cell_type": "code",
   "execution_count": 7,
   "metadata": {},
   "outputs": [],
   "source": [
    "for lan in language_list:\n",
    "    output[lan] = 0\n",
    "for col in df.columns:\n",
    "    for lang in output.columns:\n",
    "        if (col != ' sa4_name16' and lang != ' sa4_name16' and col != ' sa4_code16' and lang != ' sa4_code16'):\n",
    "            if (lang in col):\n",
    "                output[lang] = df[col] + output[lang]"
   ]
  },
  {
   "cell_type": "code",
   "execution_count": 8,
   "metadata": {},
   "outputs": [],
   "source": [
    "output[\"total\"] = output.sum(axis=1)"
   ]
  },
  {
   "cell_type": "code",
   "execution_count": 9,
   "metadata": {},
   "outputs": [],
   "source": [
    "output[\"eng_per\"] = output[\"eng\"] / output[\"total\"]"
   ]
  },
  {
   "cell_type": "code",
   "execution_count": 10,
   "metadata": {},
   "outputs": [],
   "source": [
    "output.rename(columns={' sa4_name16':'sa4_name', ' sa4_code16':'sa4_code'}, inplace = True)\n",
    "output.to_csv('language_result.csv', index = False)"
   ]
  },
  {
   "cell_type": "code",
   "execution_count": 11,
   "metadata": {},
   "outputs": [],
   "source": [
    "output = output.set_index('sa4_code')\n",
    "output.to_json('language_output.json', orient='index')"
   ]
  }
 ],
 "metadata": {
  "kernelspec": {
   "display_name": "Python 3",
   "language": "python",
   "name": "python3"
  },
  "language_info": {
   "codemirror_mode": {
    "name": "ipython",
    "version": 3
   },
   "file_extension": ".py",
   "mimetype": "text/x-python",
   "name": "python",
   "nbconvert_exporter": "python",
   "pygments_lexer": "ipython3",
   "version": "3.8.5"
  }
 },
 "nbformat": 4,
 "nbformat_minor": 4
}
