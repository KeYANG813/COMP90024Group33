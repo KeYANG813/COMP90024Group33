{
 "cells": [
  {
   "cell_type": "code",
   "execution_count": 1,
   "metadata": {},
   "outputs": [],
   "source": [
    "import re\n",
    "import string\n",
    "import pandas as pd\n",
    "import numpy as np \n",
    "import warnings\n",
    "warnings.filterwarnings(\"ignore\")"
   ]
  },
  {
   "cell_type": "code",
   "execution_count": 2,
   "metadata": {},
   "outputs": [],
   "source": [
    "df_21 = pd.read_csv('rent_2021_12.csv')\n",
    "df_16 = pd.read_csv('rent_2016_12.csv')"
   ]
  },
  {
   "cell_type": "code",
   "execution_count": 3,
   "metadata": {},
   "outputs": [],
   "source": [
    "def preprocessing(df):\n",
    "    \"\"\"\n",
    "    :desc:  \n",
    "        This function will keep useful attribute \n",
    "    \"\"\"\n",
    "    month = str(df[\" dateyear\"][0])\n",
    "    for col in df.columns:\n",
    "        if ((\"mean\" in col) or ('sa42016code' in col) or ('sa42016name' in col) ):\n",
    "            continue\n",
    "        else:\n",
    "            df = df.drop([col], axis = 1)\n",
    "    df.rename(columns={' for_rent_home_lease_geometricmeanprice':'for_rent_'+ month, ' sa42016code':'sa4_code', ' sa42016name':'sa4_name',\n",
    "                  ' for_sale_both_auction_private_treaty_geometricmeanprice':'for_sale_'+ month,\n",
    "                  ' sold_both_auction_private_treaty_geometricmeanprice':'for_sold_' + month,}, inplace = True)\n",
    "    if (df.shape[0] > 17):\n",
    "        df.drop(df.tail(17).index,inplace=True)\n",
    "\n",
    "    \n",
    "    return df\n"
   ]
  },
  {
   "cell_type": "code",
   "execution_count": 4,
   "metadata": {},
   "outputs": [],
   "source": [
    "df_21 = preprocessing(df_21)"
   ]
  },
  {
   "cell_type": "code",
   "execution_count": 5,
   "metadata": {},
   "outputs": [],
   "source": [
    "df_16 = preprocessing(df_16)"
   ]
  },
  {
   "cell_type": "code",
   "execution_count": 6,
   "metadata": {},
   "outputs": [],
   "source": [
    "df_21['for_sale_2016'] = df_16['for_sale_2016']\n",
    "df_21['for_rent_2016'] = df_16['for_rent_2016']\n",
    "df_21['for_sold_2016'] = df_16['for_sold_2016']"
   ]
  },
  {
   "cell_type": "code",
   "execution_count": 7,
   "metadata": {},
   "outputs": [],
   "source": [
    "df_21['for_sold_rise'] = df_21['for_sold_2021'] - df_21['for_sold_2016']\n",
    "df_21['for_sale_rise'] = df_21['for_sale_2021'] - df_21['for_sale_2016']\n",
    "df_21['for_rent_rise'] = df_21['for_rent_2021'] - df_21['for_rent_2016']"
   ]
  },
  {
   "cell_type": "code",
   "execution_count": 8,
   "metadata": {},
   "outputs": [
    {
     "ename": "NameError",
     "evalue": "name 'df' is not defined",
     "output_type": "error",
     "traceback": [
      "\u001b[1;31m---------------------------------------------------------------------------\u001b[0m",
      "\u001b[1;31mNameError\u001b[0m                                 Traceback (most recent call last)",
      "\u001b[1;32m<ipython-input-8-ab574071340f>\u001b[0m in \u001b[0;36m<module>\u001b[1;34m\u001b[0m\n\u001b[1;32m----> 1\u001b[1;33m \u001b[0mdf\u001b[0m \u001b[1;33m=\u001b[0m \u001b[0mdf\u001b[0m\u001b[1;33m.\u001b[0m\u001b[0mset_index\u001b[0m\u001b[1;33m(\u001b[0m\u001b[1;34m'sa4_code'\u001b[0m\u001b[1;33m)\u001b[0m\u001b[1;33m\u001b[0m\u001b[1;33m\u001b[0m\u001b[0m\n\u001b[0m\u001b[0;32m      2\u001b[0m \u001b[0mdf\u001b[0m\u001b[1;33m.\u001b[0m\u001b[0mto_json\u001b[0m\u001b[1;33m(\u001b[0m\u001b[1;34m'rent_output.json'\u001b[0m\u001b[1;33m,\u001b[0m \u001b[0morient\u001b[0m\u001b[1;33m=\u001b[0m\u001b[1;34m'index'\u001b[0m\u001b[1;33m)\u001b[0m\u001b[1;33m\u001b[0m\u001b[1;33m\u001b[0m\u001b[0m\n\u001b[0;32m      3\u001b[0m \u001b[0mdf\u001b[0m\u001b[1;33m.\u001b[0m\u001b[0mto_csv\u001b[0m\u001b[1;33m(\u001b[0m\u001b[1;34m'rent_result.csv'\u001b[0m\u001b[1;33m)\u001b[0m\u001b[1;33m\u001b[0m\u001b[1;33m\u001b[0m\u001b[0m\n",
      "\u001b[1;31mNameError\u001b[0m: name 'df' is not defined"
     ]
    }
   ],
   "source": [
    "df = df.set_index('sa4_code')\n",
    "df.to_json('rent_output.json', orient='index')\n",
    "df.to_csv('rent_result.csv')"
   ]
  }
 ],
 "metadata": {
  "kernelspec": {
   "display_name": "Python 3",
   "language": "python",
   "name": "python3"
  },
  "language_info": {
   "codemirror_mode": {
    "name": "ipython",
    "version": 3
   },
   "file_extension": ".py",
   "mimetype": "text/x-python",
   "name": "python",
   "nbconvert_exporter": "python",
   "pygments_lexer": "ipython3",
   "version": "3.8.5"
  }
 },
 "nbformat": 4,
 "nbformat_minor": 4
}
