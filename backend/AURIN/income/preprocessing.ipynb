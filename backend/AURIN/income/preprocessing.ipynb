{
 "cells": [
  {
   "cell_type": "code",
   "execution_count": 1,
   "metadata": {},
   "outputs": [],
   "source": [
    "import re\n",
    "import string\n",
    "import pandas as pd\n",
    "import numpy as np \n",
    "import warnings\n",
    "warnings.filterwarnings(\"ignore\")"
   ]
  },
  {
   "cell_type": "code",
   "execution_count": 2,
   "metadata": {},
   "outputs": [],
   "source": [
    "df_au = pd.read_csv('income_au.csv')"
   ]
  },
  {
   "cell_type": "code",
   "execution_count": 3,
   "metadata": {},
   "outputs": [],
   "source": [
    "list_need = [' hi_1_149_tot',\n",
    "    ' hi_1000_1249_tot',\n",
    "    ' hi_2000_2499_tot',\n",
    "    ' hi_3000_3499_tot',\n",
    "    ' hi_4000_more_tot',\n",
    "    ' gcc_code16',' gcc_name16']"
   ]
  },
  {
   "cell_type": "code",
   "execution_count": 4,
   "metadata": {},
   "outputs": [],
   "source": [
    "def preprocessing(df):\n",
    "    \"\"\"\n",
    "    :desc:  \n",
    "        This function will keep useful attribute \n",
    "    \"\"\"\n",
    "    for col in df.columns:\n",
    "        if (col in list_need):\n",
    "            continue\n",
    "        else:\n",
    "            df = df.drop([col], axis = 1)\n",
    "            \n",
    "    df.rename(columns={' gcc_name16':'gcc_name', ' gcc_code16':'gcc_code', ' hi_1_149_tot': '1-149',\n",
    "                       ' hi_1000_1249_tot': '1000-1249',\n",
    "                       ' hi_2000_2499_tot': '2000-2499',\n",
    "                       ' hi_3000_3499_tot': '3000-3499',\n",
    "                       ' hi_4000_more_tot': '4000more'}, inplace = True)\n",
    "    df = df[['gcc_code', 'gcc_name','1-149', '1000-1249','2000-2499','3000-3499', '4000more']]\n",
    "\n",
    "    \n",
    "    return df\n"
   ]
  },
  {
   "cell_type": "code",
   "execution_count": 5,
   "metadata": {},
   "outputs": [],
   "source": [
    "df_au = preprocessing(df_au)"
   ]
  },
  {
   "cell_type": "code",
   "execution_count": 6,
   "metadata": {},
   "outputs": [],
   "source": [
    "df_au = df_au.loc[(df_au[\"gcc_code\"] == \"1GSYD\") | (df_au[\"gcc_code\"] == \"2GMEL\") | (df_au[\"gcc_code\"] == \"3GBRI\") | (df_au[\"gcc_code\"] == \"4GADE\") | (df_au[\"gcc_code\"] == \"7GDAR\" ) ]"
   ]
  },
  {
   "cell_type": "code",
   "execution_count": 7,
   "metadata": {},
   "outputs": [],
   "source": [
    "df_au = df_au.set_index('gcc_name')\n",
    "df_au.to_json('income_output.json', orient='index')"
   ]
  },
  {
   "cell_type": "code",
   "execution_count": 8,
   "metadata": {},
   "outputs": [],
   "source": [
    "df_au.to_csv('income_result.csv')"
   ]
  },
  {
   "cell_type": "code",
   "execution_count": null,
   "metadata": {},
   "outputs": [],
   "source": []
  }
 ],
 "metadata": {
  "kernelspec": {
   "display_name": "Python 3",
   "language": "python",
   "name": "python3"
  },
  "language_info": {
   "codemirror_mode": {
    "name": "ipython",
    "version": 3
   },
   "file_extension": ".py",
   "mimetype": "text/x-python",
   "name": "python",
   "nbconvert_exporter": "python",
   "pygments_lexer": "ipython3",
   "version": "3.8.5"
  }
 },
 "nbformat": 4,
 "nbformat_minor": 4
}
