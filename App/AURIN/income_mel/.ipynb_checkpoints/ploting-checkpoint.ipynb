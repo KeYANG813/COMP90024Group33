{
 "cells": [
  {
   "cell_type": "code",
   "execution_count": 1,
   "metadata": {},
   "outputs": [],
   "source": [
    "import re\n",
    "import string\n",
    "import pandas as pd\n",
    "import numpy as np \n",
    "import warnings\n",
    "warnings.filterwarnings(\"ignore\")"
   ]
  },
  {
   "cell_type": "code",
   "execution_count": 2,
   "metadata": {},
   "outputs": [],
   "source": [
    "df_au = pd.read_csv('mel_income.csv')"
   ]
  },
  {
   "cell_type": "code",
   "execution_count": 3,
   "metadata": {},
   "outputs": [],
   "source": [
    "list_need = [' sa2_name',\n",
    "    ' median_aud',\n",
    "    ' sa2_code']"
   ]
  },
  {
   "cell_type": "code",
   "execution_count": 4,
   "metadata": {},
   "outputs": [],
   "source": [
    "def preprocessing(df):\n",
    "    \"\"\"\n",
    "    :desc:  \n",
    "        This function will keep useful attribute \n",
    "    \"\"\"\n",
    "    for col in df.columns:\n",
    "        if (col in list_need):\n",
    "            continue\n",
    "        else:\n",
    "            df = df.drop([col], axis = 1)\n",
    "            \n",
    "    df.rename(columns={' sa2_name':'sa2_name', ' median_aud':'median_income', ' sa2_code':'sa2_code'}, inplace = True)\n",
    "\n",
    "    return df\n"
   ]
  },
  {
   "cell_type": "code",
   "execution_count": 5,
   "metadata": {},
   "outputs": [],
   "source": [
    "df_au = preprocessing(df_au)"
   ]
  },
  {
   "cell_type": "code",
   "execution_count": 6,
   "metadata": {},
   "outputs": [
    {
     "data": {
      "text/html": [
       "<div>\n",
       "<style scoped>\n",
       "    .dataframe tbody tr th:only-of-type {\n",
       "        vertical-align: middle;\n",
       "    }\n",
       "\n",
       "    .dataframe tbody tr th {\n",
       "        vertical-align: top;\n",
       "    }\n",
       "\n",
       "    .dataframe thead th {\n",
       "        text-align: right;\n",
       "    }\n",
       "</style>\n",
       "<table border=\"1\" class=\"dataframe\">\n",
       "  <thead>\n",
       "    <tr style=\"text-align: right;\">\n",
       "      <th></th>\n",
       "      <th>median_income</th>\n",
       "      <th>sa2_code</th>\n",
       "      <th>sa2_name</th>\n",
       "    </tr>\n",
       "  </thead>\n",
       "  <tbody>\n",
       "    <tr>\n",
       "      <th>102</th>\n",
       "      <td>24967.0</td>\n",
       "      <td>210011227</td>\n",
       "      <td>Essendon Airport</td>\n",
       "    </tr>\n",
       "    <tr>\n",
       "      <th>20</th>\n",
       "      <td>28068.0</td>\n",
       "      <td>206041122</td>\n",
       "      <td>Melbourne</td>\n",
       "    </tr>\n",
       "    <tr>\n",
       "      <th>155</th>\n",
       "      <td>34939.0</td>\n",
       "      <td>210051242</td>\n",
       "      <td>Broadmeadows</td>\n",
       "    </tr>\n",
       "    <tr>\n",
       "      <th>240</th>\n",
       "      <td>35296.0</td>\n",
       "      <td>212051320</td>\n",
       "      <td>Clayton</td>\n",
       "    </tr>\n",
       "    <tr>\n",
       "      <th>236</th>\n",
       "      <td>35369.0</td>\n",
       "      <td>212041317</td>\n",
       "      <td>Springvale</td>\n",
       "    </tr>\n",
       "    <tr>\n",
       "      <th>...</th>\n",
       "      <td>...</td>\n",
       "      <td>...</td>\n",
       "      <td>...</td>\n",
       "    </tr>\n",
       "    <tr>\n",
       "      <th>51</th>\n",
       "      <td>66160.0</td>\n",
       "      <td>206051128</td>\n",
       "      <td>Albert Park</td>\n",
       "    </tr>\n",
       "    <tr>\n",
       "      <th>87</th>\n",
       "      <td>66389.0</td>\n",
       "      <td>208011169</td>\n",
       "      <td>Brighton (Vic.)</td>\n",
       "    </tr>\n",
       "    <tr>\n",
       "      <th>19</th>\n",
       "      <td>70034.0</td>\n",
       "      <td>206041119</td>\n",
       "      <td>East Melbourne</td>\n",
       "    </tr>\n",
       "    <tr>\n",
       "      <th>58</th>\n",
       "      <td>71282.0</td>\n",
       "      <td>206061138</td>\n",
       "      <td>Toorak</td>\n",
       "    </tr>\n",
       "    <tr>\n",
       "      <th>41</th>\n",
       "      <td>73296.0</td>\n",
       "      <td>206051130</td>\n",
       "      <td>Port Melbourne</td>\n",
       "    </tr>\n",
       "  </tbody>\n",
       "</table>\n",
       "<p>309 rows × 3 columns</p>\n",
       "</div>"
      ],
      "text/plain": [
       "     median_income   sa2_code          sa2_name\n",
       "102        24967.0  210011227  Essendon Airport\n",
       "20         28068.0  206041122         Melbourne\n",
       "155        34939.0  210051242      Broadmeadows\n",
       "240        35296.0  212051320           Clayton\n",
       "236        35369.0  212041317        Springvale\n",
       "..             ...        ...               ...\n",
       "51         66160.0  206051128       Albert Park\n",
       "87         66389.0  208011169   Brighton (Vic.)\n",
       "19         70034.0  206041119    East Melbourne\n",
       "58         71282.0  206061138            Toorak\n",
       "41         73296.0  206051130    Port Melbourne\n",
       "\n",
       "[309 rows x 3 columns]"
      ]
     },
     "execution_count": 6,
     "metadata": {},
     "output_type": "execute_result"
    }
   ],
   "source": [
    "df_au = df_au.sort_values(by=['median_income'])\n",
    "df_au"
   ]
  },
  {
   "cell_type": "code",
   "execution_count": 7,
   "metadata": {},
   "outputs": [],
   "source": [
    "df_au = df_au.loc[(df_au[\"sa2_code\"] == 206041125) | (df_au[\"sa2_code\"] == 207011153) | (df_au[\"sa2_code\"] == 206041124) | (df_au[\"sa2_code\"] == 207031163) | (df_au[\"sa2_code\"] == 206041117 ) | (df_au[\"sa2_code\"] == 207011147) | (df_au[\"sa2_code\"] == 206041122) | (df_au[\"sa2_code\"] == 212051319) ]"
   ]
  },
  {
   "cell_type": "code",
   "execution_count": 10,
   "metadata": {},
   "outputs": [],
   "source": [
    "df_au = df_au.drop([\"sa2_code\"], axis = 1)"
   ]
  },
  {
   "cell_type": "code",
   "execution_count": 13,
   "metadata": {},
   "outputs": [],
   "source": [
    "df_au = df_au.set_index(\"sa2_name\")"
   ]
  },
  {
   "cell_type": "code",
   "execution_count": 14,
   "metadata": {},
   "outputs": [
    {
     "data": {
      "text/html": [
       "<div>\n",
       "<style scoped>\n",
       "    .dataframe tbody tr th:only-of-type {\n",
       "        vertical-align: middle;\n",
       "    }\n",
       "\n",
       "    .dataframe tbody tr th {\n",
       "        vertical-align: top;\n",
       "    }\n",
       "\n",
       "    .dataframe thead th {\n",
       "        text-align: right;\n",
       "    }\n",
       "</style>\n",
       "<table border=\"1\" class=\"dataframe\">\n",
       "  <thead>\n",
       "    <tr style=\"text-align: right;\">\n",
       "      <th></th>\n",
       "      <th>median_income</th>\n",
       "    </tr>\n",
       "    <tr>\n",
       "      <th>sa2_name</th>\n",
       "      <th></th>\n",
       "    </tr>\n",
       "  </thead>\n",
       "  <tbody>\n",
       "    <tr>\n",
       "      <th>Melbourne</th>\n",
       "      <td>28068.0</td>\n",
       "    </tr>\n",
       "    <tr>\n",
       "      <th>Carlton</th>\n",
       "      <td>36819.0</td>\n",
       "    </tr>\n",
       "    <tr>\n",
       "      <th>Box Hill</th>\n",
       "      <td>37979.0</td>\n",
       "    </tr>\n",
       "    <tr>\n",
       "      <th>Parkville</th>\n",
       "      <td>45596.0</td>\n",
       "    </tr>\n",
       "    <tr>\n",
       "      <th>Ashwood - Chadstone</th>\n",
       "      <td>47564.0</td>\n",
       "    </tr>\n",
       "    <tr>\n",
       "      <th>Balwyn</th>\n",
       "      <td>49615.0</td>\n",
       "    </tr>\n",
       "    <tr>\n",
       "      <th>Kew</th>\n",
       "      <td>59400.0</td>\n",
       "    </tr>\n",
       "    <tr>\n",
       "      <th>South Yarra - West</th>\n",
       "      <td>65330.0</td>\n",
       "    </tr>\n",
       "  </tbody>\n",
       "</table>\n",
       "</div>"
      ],
      "text/plain": [
       "                     median_income\n",
       "sa2_name                          \n",
       "Melbourne                  28068.0\n",
       "Carlton                    36819.0\n",
       "Box Hill                   37979.0\n",
       "Parkville                  45596.0\n",
       "Ashwood - Chadstone        47564.0\n",
       "Balwyn                     49615.0\n",
       "Kew                        59400.0\n",
       "South Yarra - West         65330.0"
      ]
     },
     "execution_count": 14,
     "metadata": {},
     "output_type": "execute_result"
    }
   ],
   "source": [
    "df_au"
   ]
  },
  {
   "cell_type": "code",
   "execution_count": 15,
   "metadata": {},
   "outputs": [
    {
     "name": "stdout",
     "output_type": "stream",
     "text": [
      "{'median_income': {'Melbourne': 28068.0, 'Carlton': 36819.0, 'Box Hill': 37979.0, 'Parkville': 45596.0, 'Ashwood - Chadstone': 47564.0, 'Balwyn': 49615.0, 'Kew': 59400.0, 'South Yarra - West': 65330.0}}\n"
     ]
    }
   ],
   "source": [
    "dictonary = df_au.to_dict()\n",
    "print(dictonary)"
   ]
  },
  {
   "cell_type": "code",
   "execution_count": null,
   "metadata": {},
   "outputs": [],
   "source": []
  }
 ],
 "metadata": {
  "kernelspec": {
   "display_name": "Python 3",
   "language": "python",
   "name": "python3"
  },
  "language_info": {
   "codemirror_mode": {
    "name": "ipython",
    "version": 3
   },
   "file_extension": ".py",
   "mimetype": "text/x-python",
   "name": "python",
   "nbconvert_exporter": "python",
   "pygments_lexer": "ipython3",
   "version": "3.8.5"
  }
 },
 "nbformat": 4,
 "nbformat_minor": 4
}
