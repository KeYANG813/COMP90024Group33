{
 "cells": [
  {
   "cell_type": "code",
   "execution_count": 1,
   "metadata": {},
   "outputs": [],
   "source": [
    "import re\n",
    "import string\n",
    "import pandas as pd\n",
    "import numpy as np \n",
    "import warnings\n",
    "warnings.filterwarnings(\"ignore\")"
   ]
  },
  {
   "cell_type": "code",
   "execution_count": 2,
   "metadata": {},
   "outputs": [],
   "source": [
    "df_au = pd.read_csv('rent_au.csv')"
   ]
  },
  {
   "cell_type": "code",
   "execution_count": 3,
   "metadata": {},
   "outputs": [],
   "source": [
    "want_dic = {\" gcc_name16\": \"gcc_name\",\n",
    "            \" gcc_code16\": \"gcc_code\",\n",
    "           \" median_rent_weekly\": \"median_rent_weekly\",\n",
    "           \" median_mortgage_repay_monthly\": \"median_mortgage_repay_monthly\"}"
   ]
  },
  {
   "cell_type": "code",
   "execution_count": 4,
   "metadata": {},
   "outputs": [],
   "source": [
    "def preprocessing(df):\n",
    "    \"\"\"\n",
    "    :desc:  \n",
    "        This function will keep useful attribute \n",
    "    \"\"\"\n",
    "    for col in df.columns:\n",
    "        if col not in want_dic.keys():\n",
    "            df = df.drop([col], axis = 1)\n",
    "            \n",
    "    for col in df.columns:\n",
    "        df.rename(columns={col:want_dic[col]}, inplace = True)\n",
    "    return df\n"
   ]
  },
  {
   "cell_type": "code",
   "execution_count": 5,
   "metadata": {},
   "outputs": [
    {
     "data": {
      "text/html": [
       "<div>\n",
       "<style scoped>\n",
       "    .dataframe tbody tr th:only-of-type {\n",
       "        vertical-align: middle;\n",
       "    }\n",
       "\n",
       "    .dataframe tbody tr th {\n",
       "        vertical-align: top;\n",
       "    }\n",
       "\n",
       "    .dataframe thead th {\n",
       "        text-align: right;\n",
       "    }\n",
       "</style>\n",
       "<table border=\"1\" class=\"dataframe\">\n",
       "  <thead>\n",
       "    <tr style=\"text-align: right;\">\n",
       "      <th></th>\n",
       "      <th>gcc_code</th>\n",
       "      <th>median_mortgage_repay_monthly</th>\n",
       "      <th>median_rent_weekly</th>\n",
       "      <th>gcc_name</th>\n",
       "    </tr>\n",
       "  </thead>\n",
       "  <tbody>\n",
       "    <tr>\n",
       "      <th>0</th>\n",
       "      <td>1GSYD</td>\n",
       "      <td>2167</td>\n",
       "      <td>440</td>\n",
       "      <td>Greater Sydney</td>\n",
       "    </tr>\n",
       "    <tr>\n",
       "      <th>2</th>\n",
       "      <td>2GMEL</td>\n",
       "      <td>1800</td>\n",
       "      <td>350</td>\n",
       "      <td>Greater Melbourne</td>\n",
       "    </tr>\n",
       "    <tr>\n",
       "      <th>4</th>\n",
       "      <td>3GBRI</td>\n",
       "      <td>1861</td>\n",
       "      <td>355</td>\n",
       "      <td>Greater Brisbane</td>\n",
       "    </tr>\n",
       "    <tr>\n",
       "      <th>6</th>\n",
       "      <td>4GADE</td>\n",
       "      <td>1517</td>\n",
       "      <td>285</td>\n",
       "      <td>Greater Adelaide</td>\n",
       "    </tr>\n",
       "    <tr>\n",
       "      <th>12</th>\n",
       "      <td>7GDAR</td>\n",
       "      <td>2200</td>\n",
       "      <td>420</td>\n",
       "      <td>Greater Darwin</td>\n",
       "    </tr>\n",
       "  </tbody>\n",
       "</table>\n",
       "</div>"
      ],
      "text/plain": [
       "   gcc_code  median_mortgage_repay_monthly  median_rent_weekly  \\\n",
       "0     1GSYD                           2167                 440   \n",
       "2     2GMEL                           1800                 350   \n",
       "4     3GBRI                           1861                 355   \n",
       "6     4GADE                           1517                 285   \n",
       "12    7GDAR                           2200                 420   \n",
       "\n",
       "             gcc_name  \n",
       "0      Greater Sydney  \n",
       "2   Greater Melbourne  \n",
       "4    Greater Brisbane  \n",
       "6    Greater Adelaide  \n",
       "12     Greater Darwin  "
      ]
     },
     "execution_count": 5,
     "metadata": {},
     "output_type": "execute_result"
    }
   ],
   "source": [
    "df_au = preprocessing(df_au)\n",
    "df_au = df_au.loc[(df_au[\"gcc_code\"] == \"1GSYD\") | (df_au[\"gcc_code\"] == \"2GMEL\") | (df_au[\"gcc_code\"] == \"3GBRI\") | (df_au[\"gcc_code\"] == \"4GADE\") | (df_au[\"gcc_code\"] == \"7GDAR\" ) ]"
   ]
  },
  {
   "cell_type": "code",
   "execution_count": 6,
   "metadata": {},
   "outputs": [],
   "source": [
    "df_au = df_au.set_index('gcc_name')\n",
    "df_au.to_json('rent_output.json', orient='index')"
   ]
  },
  {
   "cell_type": "code",
   "execution_count": 7,
   "metadata": {},
   "outputs": [],
   "source": [
    "df_au.to_csv('rent_result.csv')"
   ]
  }
 ],
 "metadata": {
  "kernelspec": {
   "display_name": "Python 3",
   "language": "python",
   "name": "python3"
  },
  "language_info": {
   "codemirror_mode": {
    "name": "ipython",
    "version": 3
   },
   "file_extension": ".py",
   "mimetype": "text/x-python",
   "name": "python",
   "nbconvert_exporter": "python",
   "pygments_lexer": "ipython3",
   "version": "3.8.5"
  }
 },
 "nbformat": 4,
 "nbformat_minor": 4
}
